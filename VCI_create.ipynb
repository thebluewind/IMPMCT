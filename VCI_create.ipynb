{
 "cells": [
  {
   "cell_type": "code",
   "execution_count": null,
   "metadata": {},
   "outputs": [],
   "source": [
    "import os\n",
    "import numpy as np\n",
    "import matplotlib as mpl\n",
    "import matplotlib.pyplot as plt\n",
    "import warnings\n",
    "warnings.filterwarnings(\"ignore\")\n",
    "import cartopy.crs as ccrs\n",
    "import xarray as xr\n",
    "import matplotlib.pyplot as plt\n",
    "import matplotlib as mpl\n",
    "import pandas as pd\n",
    "import numpy as np\n",
    "import cartopy.crs as ccrs\n",
    "import matplotlib.patches as patches\n",
    "import cmaps\n",
    "import cartopy.feature as cfeature\n",
    "from datetime import datetime,timedelta\n",
    "from matplotlib.offsetbox import AnchoredText#关于修改text位置的\n",
    "import cv2\n",
    "from pygac import get_reader_class\n",
    "import ast\n",
    "from tqdm import tqdm\n",
    "proj =ccrs.NorthPolarStereo(central_longitude=17.5)\n",
    "from sklearn.neighbors import BallTree\n",
    "from shapely.geometry import Point, Polygon,LineString\n",
    "#经过实验，按经纬度插值的清晰度小于先转化为实际地理坐标系再插值的清晰度\n",
    "import concurrent.futures\n",
    "import pyproj\n",
    "import matplotlib.style as mplstyle\n",
    "from utiles import *"
   ]
  },
  {
   "cell_type": "code",
   "execution_count": null,
   "metadata": {},
   "outputs": [],
   "source": [
    "def read_AVHRR(filepath,tle_name):\n",
    "    tle_dir = r'Z:\\NOAA_TLE'\n",
    "    reader_cls = get_reader_class(filepath)\n",
    "    reader = reader_cls(tle_dir=tle_dir, tle_name=tle_name)\n",
    "    reader.read(filepath)\n",
    "    channels = reader.get_calibrated_channels()\n",
    "    lons, lats = reader.get_lonlat()\n",
    "    #根据diffs来判断overlap的扫描线序号-----------------------------------------------------------\n",
    "    diffs = reader.correct_scan_line_numbers()['diffs']\n",
    "    overlap_mask = (diffs==0)\n",
    "    IR = channels[overlap_mask]\n",
    "    lons,lats = lons[overlap_mask,:],lats[overlap_mask,:]\n",
    "    #异常扫描线去除-------------------------------------------------------------------------------\n",
    "    masked_scanlines = np.isnan(IR[:,:,4]).sum(axis=1)>0\n",
    "    IR = IR[~masked_scanlines]\n",
    "    lons = lons[~masked_scanlines,:]\n",
    "    lats = lats[~masked_scanlines,:]\n",
    "    return IR,lons,lats"
   ]
  },
  {
   "cell_type": "code",
   "execution_count": null,
   "metadata": {},
   "outputs": [],
   "source": [
    "def lonlat2xy(central_lon,central_lat,lons,lats):\n",
    "    lons,lats = np.array(lons),np.array(lats)\n",
    "    #x_distance = geodistance(central_lon,lats.flatten(),lons.flatten(),lats.flatten())，为什么不这么算\n",
    "    #x1_distance = R * cos(lat1) * (lon1-central_lon)，x2_distance = R * cos(lat2) * (lon2-central_lon)\n",
    "    #x1_distance-x2_distance = R * cos(lat1) * lon1+R * cos(lat2) * lon2+R*central_lon*(cos(lat1)-cos(lat2)),这使得坐标差随着central_lon的变化而变化\n",
    "    #lons,lats需要是一维的\n",
    "    x_distance = geodistance(central_lon,central_lat,lons.flatten(),central_lat)\n",
    "    x_coords = np.where(lons.flatten()<central_lon,-x_distance,x_distance)\n",
    "    y_distance = geodistance(central_lon,central_lat,central_lon,lats.flatten())\n",
    "    y_coords = np.where(lats.flatten()<central_lat,-y_distance,y_distance)\n",
    "    return x_coords,y_coords"
   ]
  },
  {
   "cell_type": "code",
   "execution_count": null,
   "metadata": {},
   "outputs": [],
   "source": [
    "def minmax(IR,IR_min=210,IR_max=280):\n",
    "    #归一化\n",
    "    IR = np.where(IR<IR_min,IR_min,IR)\n",
    "    IR = np.where(IR>IR_max,IR_max,IR)\n",
    "    return (IR-IR_min)/(IR_max-IR_min)"
   ]
  },
  {
   "cell_type": "code",
   "execution_count": null,
   "metadata": {},
   "outputs": [],
   "source": [
    "def deal_cloud(matched_info):\n",
    "    #裁剪并重插值地表温度和AVHRR数据\n",
    "    #读入AVHRR数据----------------------------------------------------------------------------\n",
    "    IR,AVHRR_lons,AVHRR_lats = read_AVHRR(matched_info.filepath,matched_info.tle_name)\n",
    "    central_lon,central_lat = matched_info.cloud_lon,matched_info.cloud_lat\n",
    "#对地表温度和红外进行裁剪插值----------------------------------------------------------------------------------------------------------------------------\n",
    "    grid_size,distance=800,2000\n",
    "    #裁剪区域坐标\n",
    "    points = np.concatenate([-distance*np.array(range(1,grid_size//2+1))[::-1],np.array([0]),distance*np.array(range(1,grid_size//2+1))])\n",
    "    _, _,chosed_x,chosed_y = generate_rotated_grid(central_lon, central_lat,1,0,grid_size=grid_size,distance=distance)\n",
    "    #ERA5数据经纬度转实际坐标\n",
    "    polar_coords_xmin,polar_coords_ymin = [-802,-802]\n",
    "    polar_coords_xmax,polar_coords_ymax = [802,802]\n",
    "    AVHRR_x_coords,AVHRR_y_coords = lonlat2xy(central_lon,central_lat,AVHRR_lons.flatten(),AVHRR_lats.flatten())\n",
    "    #减少插值范围\n",
    "    AV_clip_bool  = (AVHRR_x_coords<polar_coords_xmax)& (AVHRR_x_coords>polar_coords_xmin)\\\n",
    "            &(AVHRR_y_coords<polar_coords_ymax)&(AVHRR_y_coords>polar_coords_ymin)\n",
    "    AVHRR_coords = np.hstack([AVHRR_x_coords.reshape((-1,1)),AVHRR_y_coords.reshape((-1,1))])\n",
    "    VCI_coords = np.hstack([chosed_x.reshape((-1,1)),chosed_y.reshape((-1,1))])\n",
    "    trans_IR = griddata(AVHRR_coords[AV_clip_bool],IR[:,:,4].flatten()[AV_clip_bool],VCI_coords,method = 'linear').reshape((len(points),len(points)))\n",
    "    nan_place = np.isnan(trans_IR)\n",
    "    trans_IR255 = 255-np.uint8(minmax(trans_IR)*255)\n",
    "    #根据距离远近去除模糊边缘,高于80°不要去除，会有撕裂痕\n",
    "    if central_lat<80:\n",
    "        tree = BallTree(AVHRR_coords, leaf_size=15)\n",
    "        counts = tree.query_radius(VCI_coords, r=20, count_only=True).reshape((len(points),len(points)))\n",
    "        trans_IR255[np.logical_or(nan_place,counts<1)] = 0\n",
    "    trans_IR255[nan_place] = 0\n",
    "    return trans_IR255[::-1]"
   ]
  },
  {
   "cell_type": "code",
   "execution_count": null,
   "metadata": {},
   "outputs": [],
   "source": []
  }
 ],
 "metadata": {
  "language_info": {
   "name": "python"
  }
 },
 "nbformat": 4,
 "nbformat_minor": 2
}
